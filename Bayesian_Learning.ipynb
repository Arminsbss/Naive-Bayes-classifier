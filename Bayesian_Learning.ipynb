{
  "nbformat": 4,
  "nbformat_minor": 0,
  "metadata": {
    "colab": {
      "name": "Bayesian Learning.ipynb",
      "provenance": [],
      "collapsed_sections": [],
      "authorship_tag": "ABX9TyNcAG9882TNX02JKZVxGaKF",
      "include_colab_link": true
    },
    "kernelspec": {
      "name": "python3",
      "display_name": "Python 3"
    },
    "language_info": {
      "name": "python"
    }
  },
  "cells": [
    {
      "cell_type": "markdown",
      "metadata": {
        "id": "view-in-github",
        "colab_type": "text"
      },
      "source": [
        "<a href=\"https://colab.research.google.com/github/Arminsbss/Naive-Bayes-classifier/blob/main/Bayesian_Learning.ipynb\" target=\"_parent\"><img src=\"https://colab.research.google.com/assets/colab-badge.svg\" alt=\"Open In Colab\"/></a>"
      ]
    },
    {
      "cell_type": "code",
      "execution_count": null,
      "metadata": {
        "cellView": "code",
        "id": "mCz0_Sx_AY4F"
      },
      "outputs": [],
      "source": [
        "'''====================Armin SabourMoghaddam ===================='''\n",
        "#==========Import sklearn Iris data(150*4)==========\n",
        "#==========We use 80% data for training(120) and 20% for test(30)==========\n",
        "from sklearn.datasets import load_iris\n",
        "import numpy as np\n",
        "Iris=np.array(load_iris().data) #150*4 array\n",
        "target=np.array(load_iris().target) #150 array\n",
        "Iris = np.column_stack((Iris, target)) #150*5\n",
        "Train_data=[]\n",
        "Train_data=np.append(Train_data,Iris[:40,:]).reshape(40,5)\n",
        "Train_data=np.append(Train_data,Iris[50:90,:]).reshape(80,5)\n",
        "Train_data=np.append(Train_data,Iris[100:140,:]).reshape(120,5)\n",
        "Train=Train_data[:,:4]\n",
        "Test_data=[]\n",
        "Test_data=np.append(Test_data,Iris[40:50,:]).reshape(10,5)\n",
        "Test_data=np.append(Test_data,Iris[90:100,:]).reshape(20,5)\n",
        "Test_data=np.append(Test_data,Iris[140:150,:]).reshape(30,5)\n",
        "Test=Test_data[:,:4]"
      ]
    },
    {
      "cell_type": "code",
      "source": [
        "#==========Calculate the mean of 1d array==========\n",
        "def mean(numbers):\n",
        "\treturn sum(numbers)/float(len(numbers))"
      ],
      "metadata": {
        "id": "Tw477yt8QvXu"
      },
      "execution_count": null,
      "outputs": []
    },
    {
      "cell_type": "code",
      "source": [
        "#==========Calculate the variance of 1d array==========\n",
        "from math import sqrt\n",
        "def variance(numbers):\n",
        "\tavg = mean(numbers)\n",
        "\tvari = sum([(x-avg)**2 for x in numbers]) / float(len(numbers))\n",
        "\treturn vari\n",
        "# variance([6,5.92,5.58,5.92])\n",
        "# variance([5,5.5,5.42,5.75])\n",
        "# mean([5,5.5,5.42,5.75])"
      ],
      "metadata": {
        "id": "MrefhjYwpK5s"
      },
      "execution_count": null,
      "outputs": []
    },
    {
      "cell_type": "code",
      "source": [
        "#==========Calculate Gaussian naïve Bayes==========\n",
        "from math import pi\n",
        "from math import exp\n",
        "def Gaussian(x,mean,variance):\n",
        "\treturn (1/(sqrt(2*pi*(variance)))*exp(-((x-mean)**2/(2*variance))))\n",
        "# Gaussian(6,5.855,0.035033)"
      ],
      "metadata": {
        "id": "Vgit4Qkdc2Bo"
      },
      "execution_count": null,
      "outputs": []
    },
    {
      "cell_type": "code",
      "source": [
        "#==========Calculate likelihood P(X | class)==========\n",
        "def PX_class(X,classs):\n",
        "  ans=[]\n",
        "  if classs==0:\n",
        "    ans.append(Gaussian(X[0],mean(Train[:40,0]),variance(Train[:40,0])))\n",
        "    ans.append(Gaussian(X[1],mean(Train[:40,1]),variance(Train[:40,1])))\n",
        "    ans.append(Gaussian(X[2],mean(Train[:40,2]),variance(Train[:40,2])))\n",
        "    ans.append(Gaussian(X[3],mean(Train[:40,3]),variance(Train[:40,3])))\n",
        "  elif classs==1:\n",
        "    ans.append(Gaussian(X[0],mean(Train[40:80,0]),variance(Train[40:80,0])))\n",
        "    ans.append(Gaussian(X[1],mean(Train[40:80,1]),variance(Train[40:80,1])))\n",
        "    ans.append(Gaussian(X[2],mean(Train[40:80,2]),variance(Train[40:80,2])))\n",
        "    ans.append(Gaussian(X[3],mean(Train[40:80,3]),variance(Train[40:80,3])))\n",
        "  elif classs==2:\n",
        "    ans.append(Gaussian(X[0],mean(Train[80:120,0]),variance(Train[80:120,0])))\n",
        "    ans.append(Gaussian(X[1],mean(Train[80:120,1]),variance(Train[80:120,1])))\n",
        "    ans.append(Gaussian(X[2],mean(Train[80:120,2]),variance(Train[80:120,2])))\n",
        "    ans.append(Gaussian(X[3],mean(Train[80:120,3]),variance(Train[80:120,3])))\n",
        "  return ans\n",
        "test=PX_class(Train[0],0)"
      ],
      "metadata": {
        "id": "mklNKvXChBOH"
      },
      "execution_count": null,
      "outputs": []
    },
    {
      "cell_type": "code",
      "source": [
        "#==========Calculate product of array values==========\n",
        "def product(P):\n",
        "  return P[0]*P[1]*P[2]*P[3]\n",
        "print(product(test))"
      ],
      "metadata": {
        "id": "x_IwAh3rtMMI",
        "colab": {
          "base_uri": "https://localhost:8080/"
        },
        "outputId": "298064d4-67eb-42b9-f510-263be5c788ca"
      },
      "execution_count": null,
      "outputs": [
        {
          "output_type": "stream",
          "name": "stdout",
          "text": [
            "10.425124990518928\n"
          ]
        }
      ]
    },
    {
      "cell_type": "code",
      "source": [
        "#==========Maximum of likelihoods==========\n",
        "def Maximum(X):\n",
        "  P0_array=PX_class(X,0)\n",
        "  P1_array=PX_class(X,1)\n",
        "  P2_array=PX_class(X,2)\n",
        "  P0=product(P0_array)\n",
        "  P1=product(P1_array)\n",
        "  P2=product(P2_array)\n",
        "  index_max=max(range(len([P0,P1,P2])), key=[P0,P1,P2].__getitem__)\n",
        "  return index_max\n",
        "  # if index_max==0:\n",
        "  #   clas=0\n",
        "  # elif index_max==1:\n",
        "  #   clas=1\n",
        "  # elif index_max==2:\n",
        "  #   clas=2\n",
        "  # return clas"
      ],
      "metadata": {
        "id": "N7WlI7K_q1uA"
      },
      "execution_count": null,
      "outputs": []
    },
    {
      "cell_type": "code",
      "source": [
        "index_max=max(range(len(Train[0])), key=Train[0].__getitem__)\n",
        "index_max=max(range(len([5,5.5,5.42,5.75])), key=[5,5.5,5.42,5.75].__getitem__)\n",
        "print(index_max)\n",
        "type(index_max)"
      ],
      "metadata": {
        "colab": {
          "base_uri": "https://localhost:8080/"
        },
        "id": "QnLk8ju1v8lz",
        "outputId": "9811f66f-14c8-40d8-b1d3-a7a0aced2c53"
      },
      "execution_count": null,
      "outputs": [
        {
          "output_type": "stream",
          "name": "stdout",
          "text": [
            "3\n"
          ]
        },
        {
          "output_type": "execute_result",
          "data": {
            "text/plain": [
              "int"
            ]
          },
          "metadata": {},
          "execution_count": 112
        }
      ]
    },
    {
      "cell_type": "code",
      "source": [
        "#==========Run on Train data==========\n",
        "counter=0\n",
        "for i in range(len(Train)):\n",
        "  if i<41:\n",
        "    if Maximum(Train[i])!=0:\n",
        "      counter+=1\n",
        "  elif i>41 and i<81:\n",
        "    if Maximum(Train[i])!=1:\n",
        "      counter+=1\n",
        "  else:\n",
        "    if Maximum(Train[i])!=2:\n",
        "      counter+=1\n",
        "print(counter)"
      ],
      "metadata": {
        "colab": {
          "base_uri": "https://localhost:8080/"
        },
        "id": "GiRf7rxz2SAy",
        "outputId": "b6f14e22-56e8-4042-a348-2bae561e4df5"
      },
      "execution_count": null,
      "outputs": [
        {
          "output_type": "stream",
          "name": "stdout",
          "text": [
            "8\n"
          ]
        }
      ]
    },
    {
      "cell_type": "code",
      "source": [
        "#==========Run on test data==========\n",
        "counter=0\n",
        "for i in range(len(Test)):\n",
        "  if i<11:\n",
        "    if Maximum(Test[i])!=0:\n",
        "      counter+=1\n",
        "  elif i>20 and i<31:\n",
        "    if Maximum(Test[i])!=1:\n",
        "      counter+=1\n",
        "  else:\n",
        "    if Maximum(Test[i])!=2:\n",
        "      counter+=1\n",
        "print(counter)"
      ],
      "metadata": {
        "colab": {
          "base_uri": "https://localhost:8080/"
        },
        "id": "egIAYNnlxKLQ",
        "outputId": "1abb58a4-823c-4340-bc70-699b22dfb695"
      },
      "execution_count": null,
      "outputs": [
        {
          "output_type": "stream",
          "name": "stdout",
          "text": [
            "19\n"
          ]
        }
      ]
    }
  ]
}